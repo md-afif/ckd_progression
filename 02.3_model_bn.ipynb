{
 "cells": [
  {
   "cell_type": "code",
   "execution_count": 1,
   "id": "minus-ottawa",
   "metadata": {},
   "outputs": [],
   "source": [
    "import os\n",
    "import time\n",
    "import datetime\n",
    "\n",
    "import numpy as np\n",
    "import pandas as pd\n",
    "import matplotlib.pyplot as plt\n",
    "import seaborn as sns\n",
    "\n",
    "pd.options.display.max_columns = None\n",
    "\n",
    "from sklearn.preprocessing import LabelEncoder\n",
    "from sklearn.model_selection import train_test_split\n",
    "from sklearn.metrics import precision_score, recall_score, f1_score, roc_auc_score\n",
    "from sklearn.metrics import roc_curve, confusion_matrix\n",
    "\n",
    "import lightgbm as lgb\n",
    "\n",
    "from IPython.display import Image\n",
    "from IPython.display import Markdown, display\n",
    "\n",
    "from causalnex.structure.notears import from_pandas\n",
    "from causalnex.discretiser import Discretiser\n",
    "from causalnex.network import BayesianNetwork\n",
    "from causalnex.evaluation import classification_report, roc_auc\n",
    "from causalnex.inference import InferenceEngine\n",
    "from causalnex.plots import plot_structure, NODE_STYLE, EDGE_STYLE"
   ]
  },
  {
   "cell_type": "code",
   "execution_count": 2,
   "id": "graduate-cambodia",
   "metadata": {
    "scrolled": true
   },
   "outputs": [
    {
     "data": {
      "text/html": [
       "<div>\n",
       "<style scoped>\n",
       "    .dataframe tbody tr th:only-of-type {\n",
       "        vertical-align: middle;\n",
       "    }\n",
       "\n",
       "    .dataframe tbody tr th {\n",
       "        vertical-align: top;\n",
       "    }\n",
       "\n",
       "    .dataframe thead th {\n",
       "        text-align: right;\n",
       "    }\n",
       "</style>\n",
       "<table border=\"1\" class=\"dataframe\">\n",
       "  <thead>\n",
       "    <tr style=\"text-align: right;\">\n",
       "      <th></th>\n",
       "      <th>id</th>\n",
       "      <th>race</th>\n",
       "      <th>gender</th>\n",
       "      <th>age</th>\n",
       "      <th>initial_stage</th>\n",
       "      <th>initial_bp_stage</th>\n",
       "      <th>initial_cholesterol_stage</th>\n",
       "      <th>initial_diabetes_stage</th>\n",
       "      <th>Stage_Progress</th>\n",
       "    </tr>\n",
       "  </thead>\n",
       "  <tbody>\n",
       "    <tr>\n",
       "      <th>0</th>\n",
       "      <td>0</td>\n",
       "      <td>Unknown</td>\n",
       "      <td>Male</td>\n",
       "      <td>70</td>\n",
       "      <td>3a</td>\n",
       "      <td>Hypertension 1</td>\n",
       "      <td>High</td>\n",
       "      <td>Healthy</td>\n",
       "      <td>True</td>\n",
       "    </tr>\n",
       "    <tr>\n",
       "      <th>1</th>\n",
       "      <td>1</td>\n",
       "      <td>White</td>\n",
       "      <td>Female</td>\n",
       "      <td>71</td>\n",
       "      <td>4</td>\n",
       "      <td>Hypertension 2</td>\n",
       "      <td>Optimal</td>\n",
       "      <td>Diabetes</td>\n",
       "      <td>False</td>\n",
       "    </tr>\n",
       "    <tr>\n",
       "      <th>2</th>\n",
       "      <td>2</td>\n",
       "      <td>White</td>\n",
       "      <td>Female</td>\n",
       "      <td>57</td>\n",
       "      <td>4</td>\n",
       "      <td>Hypertension 1</td>\n",
       "      <td>Optimal</td>\n",
       "      <td>Diabetes</td>\n",
       "      <td>True</td>\n",
       "    </tr>\n",
       "    <tr>\n",
       "      <th>3</th>\n",
       "      <td>3</td>\n",
       "      <td>White</td>\n",
       "      <td>Male</td>\n",
       "      <td>74</td>\n",
       "      <td>1</td>\n",
       "      <td>Hypertension 1</td>\n",
       "      <td>Optimal</td>\n",
       "      <td>Healthy</td>\n",
       "      <td>False</td>\n",
       "    </tr>\n",
       "    <tr>\n",
       "      <th>4</th>\n",
       "      <td>4</td>\n",
       "      <td>White</td>\n",
       "      <td>Female</td>\n",
       "      <td>50</td>\n",
       "      <td>3b</td>\n",
       "      <td>Hypertension 1</td>\n",
       "      <td>Optimal</td>\n",
       "      <td>Diabetes</td>\n",
       "      <td>True</td>\n",
       "    </tr>\n",
       "  </tbody>\n",
       "</table>\n",
       "</div>"
      ],
      "text/plain": [
       "   id     race  gender  age initial_stage initial_bp_stage  \\\n",
       "0   0  Unknown    Male   70            3a   Hypertension 1   \n",
       "1   1    White  Female   71             4   Hypertension 2   \n",
       "2   2    White  Female   57             4   Hypertension 1   \n",
       "3   3    White    Male   74             1   Hypertension 1   \n",
       "4   4    White  Female   50            3b   Hypertension 1   \n",
       "\n",
       "  initial_cholesterol_stage initial_diabetes_stage  Stage_Progress  \n",
       "0                      High                Healthy            True  \n",
       "1                   Optimal               Diabetes           False  \n",
       "2                   Optimal               Diabetes            True  \n",
       "3                   Optimal                Healthy           False  \n",
       "4                   Optimal               Diabetes            True  "
      ]
     },
     "execution_count": 2,
     "metadata": {},
     "output_type": "execute_result"
    }
   ],
   "source": [
    "data = pd.read_csv('data/patient_features_initial.csv')\n",
    "data = data.drop(['initial_eGFR', 'initial_creatinine', 'initial_sbp', 'initial_dbp', 'initial_ldl', \n",
    "                  'initial_glucose', 'initial_hgb', 'cholesterol_drug', \n",
    "                  'diabetes_drug', 'hbp_lol_drug', 'hbp_tan_drug'], axis=1)\n",
    "\n",
    "data.head()"
   ]
  },
  {
   "cell_type": "code",
   "execution_count": 3,
   "id": "about-taylor",
   "metadata": {},
   "outputs": [
    {
     "data": {
      "text/html": [
       "<div>\n",
       "<style scoped>\n",
       "    .dataframe tbody tr th:only-of-type {\n",
       "        vertical-align: middle;\n",
       "    }\n",
       "\n",
       "    .dataframe tbody tr th {\n",
       "        vertical-align: top;\n",
       "    }\n",
       "\n",
       "    .dataframe thead th {\n",
       "        text-align: right;\n",
       "    }\n",
       "</style>\n",
       "<table border=\"1\" class=\"dataframe\">\n",
       "  <thead>\n",
       "    <tr style=\"text-align: right;\">\n",
       "      <th></th>\n",
       "      <th>race</th>\n",
       "      <th>gender</th>\n",
       "      <th>age</th>\n",
       "      <th>initial_stage</th>\n",
       "      <th>initial_bp_stage</th>\n",
       "      <th>initial_cholesterol_stage</th>\n",
       "      <th>initial_diabetes_stage</th>\n",
       "      <th>label</th>\n",
       "    </tr>\n",
       "  </thead>\n",
       "  <tbody>\n",
       "    <tr>\n",
       "      <th>0</th>\n",
       "      <td>Non-black</td>\n",
       "      <td>Male</td>\n",
       "      <td>Elderly</td>\n",
       "      <td>3a</td>\n",
       "      <td>Hypertension 1</td>\n",
       "      <td>High</td>\n",
       "      <td>Healthy</td>\n",
       "      <td>True</td>\n",
       "    </tr>\n",
       "    <tr>\n",
       "      <th>1</th>\n",
       "      <td>Non-black</td>\n",
       "      <td>Female</td>\n",
       "      <td>Elderly</td>\n",
       "      <td>4</td>\n",
       "      <td>Hypertension 2</td>\n",
       "      <td>Optimal</td>\n",
       "      <td>Diabetes</td>\n",
       "      <td>False</td>\n",
       "    </tr>\n",
       "    <tr>\n",
       "      <th>2</th>\n",
       "      <td>Non-black</td>\n",
       "      <td>Female</td>\n",
       "      <td>Non-elderly</td>\n",
       "      <td>4</td>\n",
       "      <td>Hypertension 1</td>\n",
       "      <td>Optimal</td>\n",
       "      <td>Diabetes</td>\n",
       "      <td>True</td>\n",
       "    </tr>\n",
       "    <tr>\n",
       "      <th>3</th>\n",
       "      <td>Non-black</td>\n",
       "      <td>Male</td>\n",
       "      <td>Elderly</td>\n",
       "      <td>1</td>\n",
       "      <td>Hypertension 1</td>\n",
       "      <td>Optimal</td>\n",
       "      <td>Healthy</td>\n",
       "      <td>False</td>\n",
       "    </tr>\n",
       "    <tr>\n",
       "      <th>4</th>\n",
       "      <td>Non-black</td>\n",
       "      <td>Female</td>\n",
       "      <td>Non-elderly</td>\n",
       "      <td>3b</td>\n",
       "      <td>Hypertension 1</td>\n",
       "      <td>Optimal</td>\n",
       "      <td>Diabetes</td>\n",
       "      <td>True</td>\n",
       "    </tr>\n",
       "  </tbody>\n",
       "</table>\n",
       "</div>"
      ],
      "text/plain": [
       "        race  gender          age initial_stage initial_bp_stage  \\\n",
       "0  Non-black    Male      Elderly            3a   Hypertension 1   \n",
       "1  Non-black  Female      Elderly             4   Hypertension 2   \n",
       "2  Non-black  Female  Non-elderly             4   Hypertension 1   \n",
       "3  Non-black    Male      Elderly             1   Hypertension 1   \n",
       "4  Non-black  Female  Non-elderly            3b   Hypertension 1   \n",
       "\n",
       "  initial_cholesterol_stage initial_diabetes_stage  label  \n",
       "0                      High                Healthy   True  \n",
       "1                   Optimal               Diabetes  False  \n",
       "2                   Optimal               Diabetes   True  \n",
       "3                   Optimal                Healthy  False  \n",
       "4                   Optimal               Diabetes   True  "
      ]
     },
     "execution_count": 3,
     "metadata": {},
     "output_type": "execute_result"
    }
   ],
   "source": [
    "# Since not much data is available, have to use smaller no. of bins \n",
    "# Based on discretisation done for log reg and random forest\n",
    "discretised_data = data.copy().drop('id', axis=1)\n",
    "\n",
    "race_map = {i : 'Black' if i == 'Black'\n",
    "            else 'Non-black' for i in discretised_data['race'].unique()}\n",
    "discretised_data['race'] = discretised_data['race'].map(race_map)\n",
    "\n",
    "\n",
    "gender_map = {i : 'Female' if i == 'Female'\n",
    "              else 'Male' for i in discretised_data['gender'].unique()}\n",
    "discretised_data['gender'] = discretised_data['gender'].map(gender_map)\n",
    "\n",
    "\n",
    "age_map = {i : 'Elderly' if i >= 65 \n",
    "           else 'Non-elderly' for i in discretised_data['age'].unique()}\n",
    "discretised_data['age'] = discretised_data['age'].map(age_map)\n",
    "\n",
    "discretised_data = discretised_data.rename({'Stage_Progress' : 'label'}, axis=1).astype('str')\n",
    "\n",
    "discretised_data.head()"
   ]
  },
  {
   "cell_type": "code",
   "execution_count": 4,
   "id": "present-rhythm",
   "metadata": {},
   "outputs": [
    {
     "data": {
      "text/html": [
       "<div>\n",
       "<style scoped>\n",
       "    .dataframe tbody tr th:only-of-type {\n",
       "        vertical-align: middle;\n",
       "    }\n",
       "\n",
       "    .dataframe tbody tr th {\n",
       "        vertical-align: top;\n",
       "    }\n",
       "\n",
       "    .dataframe thead th {\n",
       "        text-align: right;\n",
       "    }\n",
       "</style>\n",
       "<table border=\"1\" class=\"dataframe\">\n",
       "  <thead>\n",
       "    <tr style=\"text-align: right;\">\n",
       "      <th></th>\n",
       "      <th>race</th>\n",
       "      <th>gender</th>\n",
       "      <th>age</th>\n",
       "      <th>initial_stage</th>\n",
       "      <th>initial_bp_stage</th>\n",
       "      <th>initial_cholesterol_stage</th>\n",
       "      <th>initial_diabetes_stage</th>\n",
       "      <th>label</th>\n",
       "    </tr>\n",
       "  </thead>\n",
       "  <tbody>\n",
       "    <tr>\n",
       "      <th>0</th>\n",
       "      <td>1</td>\n",
       "      <td>1</td>\n",
       "      <td>0</td>\n",
       "      <td>2</td>\n",
       "      <td>1</td>\n",
       "      <td>1</td>\n",
       "      <td>1</td>\n",
       "      <td>1</td>\n",
       "    </tr>\n",
       "    <tr>\n",
       "      <th>1</th>\n",
       "      <td>1</td>\n",
       "      <td>0</td>\n",
       "      <td>0</td>\n",
       "      <td>4</td>\n",
       "      <td>2</td>\n",
       "      <td>3</td>\n",
       "      <td>0</td>\n",
       "      <td>0</td>\n",
       "    </tr>\n",
       "    <tr>\n",
       "      <th>2</th>\n",
       "      <td>1</td>\n",
       "      <td>0</td>\n",
       "      <td>1</td>\n",
       "      <td>4</td>\n",
       "      <td>1</td>\n",
       "      <td>3</td>\n",
       "      <td>0</td>\n",
       "      <td>1</td>\n",
       "    </tr>\n",
       "    <tr>\n",
       "      <th>3</th>\n",
       "      <td>1</td>\n",
       "      <td>1</td>\n",
       "      <td>0</td>\n",
       "      <td>0</td>\n",
       "      <td>1</td>\n",
       "      <td>3</td>\n",
       "      <td>1</td>\n",
       "      <td>0</td>\n",
       "    </tr>\n",
       "    <tr>\n",
       "      <th>4</th>\n",
       "      <td>1</td>\n",
       "      <td>0</td>\n",
       "      <td>1</td>\n",
       "      <td>3</td>\n",
       "      <td>1</td>\n",
       "      <td>3</td>\n",
       "      <td>0</td>\n",
       "      <td>1</td>\n",
       "    </tr>\n",
       "  </tbody>\n",
       "</table>\n",
       "</div>"
      ],
      "text/plain": [
       "   race  gender  age  initial_stage  initial_bp_stage  \\\n",
       "0     1       1    0              2                 1   \n",
       "1     1       0    0              4                 2   \n",
       "2     1       0    1              4                 1   \n",
       "3     1       1    0              0                 1   \n",
       "4     1       0    1              3                 1   \n",
       "\n",
       "   initial_cholesterol_stage  initial_diabetes_stage  label  \n",
       "0                          1                       1      1  \n",
       "1                          3                       0      0  \n",
       "2                          3                       0      1  \n",
       "3                          3                       1      0  \n",
       "4                          3                       0      1  "
      ]
     },
     "execution_count": 4,
     "metadata": {},
     "output_type": "execute_result"
    }
   ],
   "source": [
    "# Label encode for notears algo\n",
    "sm_data = discretised_data.copy()\n",
    "for c in sm_data.columns:\n",
    "    label_enc = LabelEncoder()\n",
    "    sm_data[c] = label_enc.fit_transform(sm_data[c])\n",
    "    \n",
    "sm_data.head()"
   ]
  },
  {
   "cell_type": "code",
   "execution_count": 5,
   "id": "electoral-communication",
   "metadata": {
    "scrolled": false
   },
   "outputs": [
    {
     "name": "stderr",
     "output_type": "stream",
     "text": [
      "/Users/afif.muhammad/opt/anaconda3/envs/causalnex/lib/python3.7/site-packages/pygraphviz/agraph.py:1341: RuntimeWarning: Warning: node 'race', graph '' size too small for label\n",
      "Warning: node 'initial_stage', graph '' size too small for label\n",
      "Warning: node 'label', graph '' size too small for label\n",
      "Warning: node 'gender', graph '' size too small for label\n",
      "Warning: node 'initial_cholesterol_stage', graph '' size too small for label\n",
      "Warning: node 'age', graph '' size too small for label\n",
      "Warning: node 'initial_diabetes_stage', graph '' size too small for label\n",
      "Warning: node 'initial_bp_stage', graph '' size too small for label\n",
      "\n",
      "  warnings.warn(b\"\".join(errors).decode(self.encoding), RuntimeWarning)\n"
     ]
    },
    {
     "data": {
      "image/png": "[encoded data removed]",
      "text/plain": [
       "<IPython.core.display.Image object>"
      ]
     },
     "execution_count": 5,
     "metadata": {},
     "output_type": "execute_result"
    }
   ],
   "source": [
    "sm = from_pandas(sm_data)\n",
    "sm.remove_edges_below_threshold(0.35)\n",
    "\n",
    "# # Removing edges that dont make causal sense\n",
    "sm.remove_edge('initial_diabetes_stage', 'race')\n",
    "sm.remove_edge('race', 'initial_cholesterol_stage')\n",
    "sm.remove_edge('initial_stage', 'initial_cholesterol_stage')\n",
    "\n",
    "# # Adding edges that make sense\n",
    "sm.add_edge('age', 'initial_stage')\n",
    "sm.add_edge('initial_bp_stage', 'initial_stage')\n",
    "\n",
    "\n",
    "# # Flipping edges that dont make causal sense\n",
    "sm.remove_edge('label', 'race')\n",
    "sm.add_edge('race', 'label')\n",
    "\n",
    "sm.remove_edge('label', 'initial_diabetes_stage')\n",
    "sm.add_edge('initial_diabetes_stage', 'label')\n",
    "\n",
    "\n",
    "# Plot the graph\n",
    "viz = plot_structure(sm, graph_attributes={\"scale\": \"0.8\"}, all_node_attributes=NODE_STYLE.WEAK, all_edge_attributes=EDGE_STYLE.WEAK)\n",
    "Image(viz.draw(format='png'))"
   ]
  },
  {
   "cell_type": "code",
   "execution_count": 6,
   "id": "concrete-representation",
   "metadata": {
    "scrolled": true
   },
   "outputs": [
    {
     "name": "stderr",
     "output_type": "stream",
     "text": [
      "/Users/afif.muhammad/opt/anaconda3/envs/causalnex/lib/python3.7/site-packages/pgmpy/estimators/BayesianEstimator.py:155: UserWarning: pseudo count specified with k2 prior. It will be ignored, use dirichlet prior for specifying pseudo_counts\n",
      "  f\"pseudo count specified with {prior_type} prior. It will be ignored, use dirichlet prior for specifying pseudo_counts\"\n",
      "/Users/afif.muhammad/opt/anaconda3/envs/causalnex/lib/python3.7/site-packages/pgmpy/estimators/BayesianEstimator.py:155: UserWarning: pseudo count specified with k2 prior. It will be ignored, use dirichlet prior for specifying pseudo_counts\n",
      "  f\"pseudo count specified with {prior_type} prior. It will be ignored, use dirichlet prior for specifying pseudo_counts\"\n",
      "/Users/afif.muhammad/opt/anaconda3/envs/causalnex/lib/python3.7/site-packages/pgmpy/estimators/BayesianEstimator.py:155: UserWarning: pseudo count specified with k2 prior. It will be ignored, use dirichlet prior for specifying pseudo_counts\n",
      "  f\"pseudo count specified with {prior_type} prior. It will be ignored, use dirichlet prior for specifying pseudo_counts\"\n",
      "/Users/afif.muhammad/opt/anaconda3/envs/causalnex/lib/python3.7/site-packages/pgmpy/estimators/BayesianEstimator.py:155: UserWarning: pseudo count specified with k2 prior. It will be ignored, use dirichlet prior for specifying pseudo_counts\n",
      "  f\"pseudo count specified with {prior_type} prior. It will be ignored, use dirichlet prior for specifying pseudo_counts\"\n",
      "/Users/afif.muhammad/opt/anaconda3/envs/causalnex/lib/python3.7/site-packages/pgmpy/estimators/BayesianEstimator.py:155: UserWarning: pseudo count specified with k2 prior. It will be ignored, use dirichlet prior for specifying pseudo_counts\n",
      "  f\"pseudo count specified with {prior_type} prior. It will be ignored, use dirichlet prior for specifying pseudo_counts\"\n",
      "/Users/afif.muhammad/opt/anaconda3/envs/causalnex/lib/python3.7/site-packages/pgmpy/estimators/BayesianEstimator.py:155: UserWarning: pseudo count specified with k2 prior. It will be ignored, use dirichlet prior for specifying pseudo_counts\n",
      "  f\"pseudo count specified with {prior_type} prior. It will be ignored, use dirichlet prior for specifying pseudo_counts\"\n",
      "/Users/afif.muhammad/opt/anaconda3/envs/causalnex/lib/python3.7/site-packages/pgmpy/estimators/BayesianEstimator.py:155: UserWarning: pseudo count specified with k2 prior. It will be ignored, use dirichlet prior for specifying pseudo_counts\n",
      "  f\"pseudo count specified with {prior_type} prior. It will be ignored, use dirichlet prior for specifying pseudo_counts\"\n",
      "/Users/afif.muhammad/opt/anaconda3/envs/causalnex/lib/python3.7/site-packages/pgmpy/estimators/BayesianEstimator.py:155: UserWarning: pseudo count specified with k2 prior. It will be ignored, use dirichlet prior for specifying pseudo_counts\n",
      "  f\"pseudo count specified with {prior_type} prior. It will be ignored, use dirichlet prior for specifying pseudo_counts\"\n"
     ]
    }
   ],
   "source": [
    "bn = BayesianNetwork(sm)\n",
    "bn = bn.fit_node_states(discretised_data)\n",
    "\n",
    "seed = 111\n",
    "train, test = train_test_split(discretised_data, test_size=0.2, random_state=seed)\n",
    "# bn = bn.fit_cpds(train, method=\"MaximumLikelihoodEstimator\")\n",
    "bn = bn.fit_cpds(train, method=\"BayesianEstimator\", bayes_prior=\"K2\")"
   ]
  },
  {
   "cell_type": "code",
   "execution_count": 7,
   "id": "automatic-sister",
   "metadata": {},
   "outputs": [
    {
     "data": {
      "text/html": [
       "<div>\n",
       "<style scoped>\n",
       "    .dataframe tbody tr th:only-of-type {\n",
       "        vertical-align: middle;\n",
       "    }\n",
       "\n",
       "    .dataframe tbody tr th {\n",
       "        vertical-align: top;\n",
       "    }\n",
       "\n",
       "    .dataframe thead tr th {\n",
       "        text-align: left;\n",
       "    }\n",
       "\n",
       "    .dataframe thead tr:last-of-type th {\n",
       "        text-align: right;\n",
       "    }\n",
       "</style>\n",
       "<table border=\"1\" class=\"dataframe\">\n",
       "  <thead>\n",
       "    <tr>\n",
       "      <th>age</th>\n",
       "      <th colspan=\"4\" halign=\"left\">Elderly</th>\n",
       "      <th colspan=\"4\" halign=\"left\">Non-elderly</th>\n",
       "    </tr>\n",
       "    <tr>\n",
       "      <th>initial_diabetes_stage</th>\n",
       "      <th colspan=\"2\" halign=\"left\">Diabetes</th>\n",
       "      <th colspan=\"2\" halign=\"left\">Healthy</th>\n",
       "      <th colspan=\"2\" halign=\"left\">Diabetes</th>\n",
       "      <th colspan=\"2\" halign=\"left\">Healthy</th>\n",
       "    </tr>\n",
       "    <tr>\n",
       "      <th>race</th>\n",
       "      <th>Black</th>\n",
       "      <th>Non-black</th>\n",
       "      <th>Black</th>\n",
       "      <th>Non-black</th>\n",
       "      <th>Black</th>\n",
       "      <th>Non-black</th>\n",
       "      <th>Black</th>\n",
       "      <th>Non-black</th>\n",
       "    </tr>\n",
       "    <tr>\n",
       "      <th>label</th>\n",
       "      <th></th>\n",
       "      <th></th>\n",
       "      <th></th>\n",
       "      <th></th>\n",
       "      <th></th>\n",
       "      <th></th>\n",
       "      <th></th>\n",
       "      <th></th>\n",
       "    </tr>\n",
       "  </thead>\n",
       "  <tbody>\n",
       "    <tr>\n",
       "      <th>False</th>\n",
       "      <td>0.5</td>\n",
       "      <td>0.753846</td>\n",
       "      <td>0.714286</td>\n",
       "      <td>0.614679</td>\n",
       "      <td>0.666667</td>\n",
       "      <td>0.625</td>\n",
       "      <td>0.666667</td>\n",
       "      <td>0.641026</td>\n",
       "    </tr>\n",
       "    <tr>\n",
       "      <th>True</th>\n",
       "      <td>0.5</td>\n",
       "      <td>0.246154</td>\n",
       "      <td>0.285714</td>\n",
       "      <td>0.385321</td>\n",
       "      <td>0.333333</td>\n",
       "      <td>0.375</td>\n",
       "      <td>0.333333</td>\n",
       "      <td>0.358974</td>\n",
       "    </tr>\n",
       "  </tbody>\n",
       "</table>\n",
       "</div>"
      ],
      "text/plain": [
       "age                     Elderly                               Non-elderly  \\\n",
       "initial_diabetes_stage Diabetes             Healthy              Diabetes   \n",
       "race                      Black Non-black     Black Non-black       Black   \n",
       "label                                                                       \n",
       "False                       0.5  0.753846  0.714286  0.614679    0.666667   \n",
       "True                        0.5  0.246154  0.285714  0.385321    0.333333   \n",
       "\n",
       "age                                                   \n",
       "initial_diabetes_stage             Healthy            \n",
       "race                   Non-black     Black Non-black  \n",
       "label                                                 \n",
       "False                      0.625  0.666667  0.641026  \n",
       "True                       0.375  0.333333  0.358974  "
      ]
     },
     "execution_count": 7,
     "metadata": {},
     "output_type": "execute_result"
    }
   ],
   "source": [
    "bn.cpds['label']"
   ]
  },
  {
   "cell_type": "code",
   "execution_count": 8,
   "id": "micro-group",
   "metadata": {},
   "outputs": [],
   "source": [
    "y_true = [1 if i == 'True' else 0 for i in train['label'].values]\n",
    "y_pred = bn.predict_probability(train, node='label')['label_True'].values\n",
    "\n",
    "threshold = 0.37\n",
    "\n",
    "y_true = [1 if i == 'True' else 0 for i in test['label'].values]\n",
    "y_pred = bn.predict_probability(test, node='label')['label_True'].values\n",
    "y_pred = [1 if p >= threshold else 0 for p in y_pred]"
   ]
  },
  {
   "cell_type": "code",
   "execution_count": 9,
   "id": "embedded-medium",
   "metadata": {},
   "outputs": [
    {
     "name": "stdout",
     "output_type": "stream",
     "text": [
      "No. of observations: 60\n",
      "No. of positive obs: 21,    No. of negative obs: 39\n",
      "TP: 16, TN: 19, FP: 20, FN: 5\n",
      "\n",
      "Accuracy: 0.5833\n",
      "TPR: 0.7619, TNR: 0.4872\n",
      "FPR: 0.5128, FNR: 0.2381\n",
      "\n",
      "Precision: 0.4444, Recall: 0.7619\n",
      "AUC score: 0.6245, f1 score: 0.5614\n"
     ]
    },
    {
     "data": {
      "text/plain": [
       "<Figure size 432x288 with 0 Axes>"
      ]
     },
     "metadata": {},
     "output_type": "display_data"
    },
    {
     "data": {
      "image/png": "[encoded data removed]",
      "text/plain": [
       "<Figure size 576x432 with 1 Axes>"
      ]
     },
     "metadata": {
      "needs_background": "light"
     },
     "output_type": "display_data"
    }
   ],
   "source": [
    "def calc_metrics_bn(true, pred):    \n",
    "    raw_data = pd.DataFrame({'true' : true, 'pred' : pred})\n",
    "    n_row = raw_data.shape[0]\n",
    "    print(f'No. of observations: {n_row}')\n",
    "    print(f\"No. of positive obs: {raw_data[raw_data['true'] == 1].shape[0]},\\\n",
    "    No. of negative obs: {raw_data[raw_data['true'] == 0].shape[0]}\")\n",
    "    \n",
    "    tp = raw_data[(raw_data['true'] == 1) & (raw_data['pred'] == 1)].shape[0]\n",
    "    tn = raw_data[(raw_data['true'] == 0) & (raw_data['pred'] == 0)].shape[0]\n",
    "    fp = raw_data[(raw_data['true'] == 0) & (raw_data['pred'] == 1)].shape[0]\n",
    "    fn = raw_data[(raw_data['true'] == 1) & (raw_data['pred'] == 0)].shape[0]\n",
    "    \n",
    "    print(f'TP: {tp}, TN: {tn}, FP: {fp}, FN: {fn}')\n",
    "    \n",
    "    print(f'\\nAccuracy: {round((tp + tn) / n_row, 4)}')\n",
    "    print(f'TPR: {round(tp / (tp + fn), 4)}, TNR: {round(tn / (tn + fp), 4)}')\n",
    "    print(f'FPR: {round(fp / (fp + tn), 4)}, FNR: {round(fn / (fn + tp), 4)}')\n",
    "    \n",
    "    print(f'\\nPrecision: {round(precision_score(true, pred), 4)}, Recall: {round(recall_score(true, pred), 4)}')\n",
    "    print(f'AUC score: {round(roc_auc_score(true, pred), 4)}, f1 score: {round(f1_score(true, pred), 4)}')\n",
    "    \n",
    "    \n",
    "    #Print Confusion Matrix\n",
    "    plt.figure()\n",
    "    cm = confusion_matrix(true, pred)\n",
    "    labels = ['Non-Progress', 'Progress']\n",
    "    plt.figure(figsize=(8,6))\n",
    "    sns.heatmap(cm, xticklabels=labels, yticklabels=labels, \n",
    "                annot=True, fmt='d', cmap=\"Blues\", vmin=0.2,\n",
    "                cbar=False);\n",
    "    plt.title('Confusion Matrix')\n",
    "    plt.ylabel('True Values')\n",
    "    plt.xlabel('Predicted Values')\n",
    "    plt.show()\n",
    "    \n",
    "    \n",
    "calc_metrics_bn(y_true, y_pred)"
   ]
  },
  {
   "cell_type": "markdown",
   "id": "exotic-citizen",
   "metadata": {},
   "source": [
    "### Inference"
   ]
  },
  {
   "cell_type": "code",
   "execution_count": 10,
   "id": "sporting-institution",
   "metadata": {
    "scrolled": true
   },
   "outputs": [
    {
     "name": "stderr",
     "output_type": "stream",
     "text": [
      "/Users/afif.muhammad/opt/anaconda3/envs/causalnex/lib/python3.7/site-packages/pgmpy/estimators/BayesianEstimator.py:155: UserWarning: pseudo count specified with k2 prior. It will be ignored, use dirichlet prior for specifying pseudo_counts\n",
      "  f\"pseudo count specified with {prior_type} prior. It will be ignored, use dirichlet prior for specifying pseudo_counts\"\n",
      "/Users/afif.muhammad/opt/anaconda3/envs/causalnex/lib/python3.7/site-packages/pgmpy/estimators/BayesianEstimator.py:155: UserWarning: pseudo count specified with k2 prior. It will be ignored, use dirichlet prior for specifying pseudo_counts\n",
      "  f\"pseudo count specified with {prior_type} prior. It will be ignored, use dirichlet prior for specifying pseudo_counts\"\n",
      "/Users/afif.muhammad/opt/anaconda3/envs/causalnex/lib/python3.7/site-packages/pgmpy/estimators/BayesianEstimator.py:155: UserWarning: pseudo count specified with k2 prior. It will be ignored, use dirichlet prior for specifying pseudo_counts\n",
      "  f\"pseudo count specified with {prior_type} prior. It will be ignored, use dirichlet prior for specifying pseudo_counts\"\n",
      "/Users/afif.muhammad/opt/anaconda3/envs/causalnex/lib/python3.7/site-packages/pgmpy/estimators/BayesianEstimator.py:155: UserWarning: pseudo count specified with k2 prior. It will be ignored, use dirichlet prior for specifying pseudo_counts\n",
      "  f\"pseudo count specified with {prior_type} prior. It will be ignored, use dirichlet prior for specifying pseudo_counts\"\n",
      "/Users/afif.muhammad/opt/anaconda3/envs/causalnex/lib/python3.7/site-packages/pgmpy/estimators/BayesianEstimator.py:155: UserWarning: pseudo count specified with k2 prior. It will be ignored, use dirichlet prior for specifying pseudo_counts\n",
      "  f\"pseudo count specified with {prior_type} prior. It will be ignored, use dirichlet prior for specifying pseudo_counts\"\n",
      "/Users/afif.muhammad/opt/anaconda3/envs/causalnex/lib/python3.7/site-packages/pgmpy/estimators/BayesianEstimator.py:155: UserWarning: pseudo count specified with k2 prior. It will be ignored, use dirichlet prior for specifying pseudo_counts\n",
      "  f\"pseudo count specified with {prior_type} prior. It will be ignored, use dirichlet prior for specifying pseudo_counts\"\n",
      "/Users/afif.muhammad/opt/anaconda3/envs/causalnex/lib/python3.7/site-packages/pgmpy/estimators/BayesianEstimator.py:155: UserWarning: pseudo count specified with k2 prior. It will be ignored, use dirichlet prior for specifying pseudo_counts\n",
      "  f\"pseudo count specified with {prior_type} prior. It will be ignored, use dirichlet prior for specifying pseudo_counts\"\n",
      "/Users/afif.muhammad/opt/anaconda3/envs/causalnex/lib/python3.7/site-packages/pgmpy/estimators/BayesianEstimator.py:155: UserWarning: pseudo count specified with k2 prior. It will be ignored, use dirichlet prior for specifying pseudo_counts\n",
      "  f\"pseudo count specified with {prior_type} prior. It will be ignored, use dirichlet prior for specifying pseudo_counts\"\n",
      "WARNING:root:Replacing existing CPD for race\n",
      "WARNING:root:Replacing existing CPD for initial_stage\n",
      "WARNING:root:Replacing existing CPD for label\n",
      "WARNING:root:Replacing existing CPD for gender\n",
      "WARNING:root:Replacing existing CPD for initial_cholesterol_stage\n",
      "WARNING:root:Replacing existing CPD for age\n",
      "WARNING:root:Replacing existing CPD for initial_diabetes_stage\n",
      "WARNING:root:Replacing existing CPD for initial_bp_stage\n"
     ]
    }
   ],
   "source": [
    "bn = bn.fit_cpds(discretised_data, method=\"BayesianEstimator\", bayes_prior=\"K2\")\n",
    "\n",
    "ie = InferenceEngine(bn)\n",
    "marginals = ie.query()"
   ]
  },
  {
   "cell_type": "code",
   "execution_count": 11,
   "id": "rising-columbia",
   "metadata": {},
   "outputs": [
    {
     "data": {
      "text/plain": [
       "{'False': 0.6545229168390071, 'True': 0.3454770831609929}"
      ]
     },
     "execution_count": 11,
     "metadata": {},
     "output_type": "execute_result"
    }
   ],
   "source": [
    "# Marginal of label\n",
    "marginals['label']"
   ]
  },
  {
   "cell_type": "code",
   "execution_count": 12,
   "id": "great-protest",
   "metadata": {},
   "outputs": [
    {
     "name": "stdout",
     "output_type": "stream",
     "text": [
      "Marginal progress in stage | Black {'False': 0.664460825380369, 'True': 0.3355391746196311}\n",
      "Marginal progress in stage | Not black {'False': 0.6536259936854546, 'True': 0.3463740063145454}\n"
     ]
    }
   ],
   "source": [
    "marginals_black = ie.query({\"race\": \"Black\"})\n",
    "marginals_nonblack = ie.query({\"race\": \"Non-black\"})\n",
    "\n",
    "print(\"Marginal progress in stage | Black\", marginals_black[\"label\"])\n",
    "print(\"Marginal progress in stage | Not black\", marginals_nonblack[\"label\"])"
   ]
  },
  {
   "cell_type": "code",
   "execution_count": 13,
   "id": "assigned-conservative",
   "metadata": {},
   "outputs": [
    {
     "name": "stdout",
     "output_type": "stream",
     "text": [
      "Marginal progress in stage | Elderly {'False': 0.6746469953721534, 'True': 0.32535300462784644}\n",
      "Marginal progress in stage | Not elderly {'False': 0.5986785989095259, 'True': 0.4013214010904741}\n"
     ]
    }
   ],
   "source": [
    "marginals_elder = ie.query({\"age\": \"Elderly\"})\n",
    "marginals_nonelder = ie.query({\"age\": \"Non-elderly\"})\n",
    "\n",
    "print(\"Marginal progress in stage | Elderly\", marginals_elder[\"label\"])\n",
    "print(\"Marginal progress in stage | Not elderly\", marginals_nonelder[\"label\"])"
   ]
  },
  {
   "cell_type": "code",
   "execution_count": 14,
   "id": "statewide-dynamics",
   "metadata": {},
   "outputs": [
    {
     "name": "stdout",
     "output_type": "stream",
     "text": [
      "Marginal progress in stage | Diabetes {'False': 0.6925572340057825, 'True': 0.3074427659942174}\n",
      "Marginal progress in stage | Healthy {'False': 0.6341628764120838, 'True': 0.3658371235879161}\n"
     ]
    }
   ],
   "source": [
    "marginals_diabetes = ie.query({\"initial_diabetes_stage\": \"Diabetes\"})\n",
    "marginals_nodiabetes = ie.query({\"initial_diabetes_stage\": \"Healthy\"})\n",
    "\n",
    "print(\"Marginal progress in stage | Diabetes\", marginals_diabetes[\"label\"])\n",
    "print(\"Marginal progress in stage | Healthy\", marginals_nodiabetes[\"label\"])"
   ]
  }
 ],
 "metadata": {
  "kernelspec": {
   "display_name": "Python 3",
   "language": "python",
   "name": "python3"
  },
  "language_info": {
   "codemirror_mode": {
    "name": "ipython",
    "version": 3
   },
   "file_extension": ".py",
   "mimetype": "text/x-python",
   "name": "python",
   "nbconvert_exporter": "python",
   "pygments_lexer": "ipython3",
   "version": "3.7.0"
  }
 },
 "nbformat": 4,
 "nbformat_minor": 5
}
